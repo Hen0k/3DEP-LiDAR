{
 "cells": [
  {
   "cell_type": "code",
   "execution_count": 2,
   "metadata": {},
   "outputs": [],
   "source": [
    "from shapely.geometry import Polygon\n",
    "from agritech_lidar.data_getter import DataGetter"
   ]
  },
  {
   "cell_type": "code",
   "execution_count": 3,
   "metadata": {},
   "outputs": [
    {
     "name": "stdout",
     "output_type": "stream",
     "text": [
      "Building the Pipeline...\n",
      "folder_name: USGS_LPC_TX_South_B8_2018_LAS_2019/\n",
      "output: 145277\n",
      "[(0, 2, 0, 2.04914726e+08, 42898, 1, 1726, 5067, 1, 0., 0, 0, 1, -10880830.44, 3040741.39, 11.03)\n",
      " (0, 2, 0, 2.04914726e+08, 44751, 1, 1726, 5067, 1, 0., 0, 0, 1, -10880831.33, 3040741.34, 11.02)\n",
      " (0, 2, 0, 2.04914726e+08, 42898, 1, 1726, 5067, 1, 0., 0, 0, 1, -10880832.22, 3040741.29, 11.03)\n",
      " ...\n",
      " (0, 2, 0, 2.04914717e+08, 44647, 1, 1725, 5067, 1, 0., 0, 0, 2, -10880905.84, 3040115.78, 11.34)\n",
      " (0, 2, 0, 2.04914717e+08, 46431, 1, 1725, 5067, 1, 0., 0, 0, 2, -10880906.72, 3040115.72, 11.38)\n",
      " (0, 2, 0, 2.04914717e+08, 44647, 1, 1725, 5067, 1, 0., 0, 0, 2, -10880907.61, 3040115.68, 11.38)]\n"
     ]
    }
   ],
   "source": [
    "getter = DataGetter(area_name='USGS_LPC_TX_South_B8_2018_LAS',\n",
    "                        boundaries=Polygon([\n",
    "                            # (xmin, ymin)\n",
    "                            (-10880908.0, 3040000),\n",
    "                            # (xmin, ymax)\n",
    "                            (-10880908.0, 3040900),\n",
    "                            # (xmax, ymax)\n",
    "                            (-10880830.0, 3040900),\n",
    "                            # (xmax, ymin)\n",
    "                            (-10880830.0, 3040000),\n",
    "                        ]),\n",
    "                        point_types=['Ground', 'Water'],\n",
    "                        ouput_path=\"output/USGS_LPC_TX_South_B8_2018_LAS.tif\"\n",
    "                        )\n",
    "pipeline = getter.build_pipeline()\n",
    "# print(pipeline)\n",
    "output = getter.execute()\n",
    "print(f\"output: {output}\")\n",
    "print(getter.pipeline.arrays[0])"
   ]
  },
  {
   "cell_type": "code",
   "execution_count": 4,
   "metadata": {},
   "outputs": [
    {
     "data": {
      "text/plain": [
       "1"
      ]
     },
     "execution_count": 4,
     "metadata": {},
     "output_type": "execute_result"
    }
   ],
   "source": [
    "len(pipeline.arrays)"
   ]
  },
  {
   "cell_type": "code",
   "execution_count": 5,
   "metadata": {},
   "outputs": [],
   "source": [
    "result = pipeline.arrays[0]\n"
   ]
  },
  {
   "cell_type": "code",
   "execution_count": 7,
   "metadata": {},
   "outputs": [],
   "source": [
    "# print(f\"Results shape: {result.shape}\")\n",
    "# print(len(result[1]))\n",
    "# print(result[:10])"
   ]
  },
  {
   "cell_type": "markdown",
   "metadata": {},
   "source": [
    "Load the tif file"
   ]
  },
  {
   "cell_type": "code",
   "execution_count": null,
   "metadata": {},
   "outputs": [],
   "source": [
    "import rasterio as rs\n",
    "from rasterio.plot import show"
   ]
  },
  {
   "cell_type": "code",
   "execution_count": null,
   "metadata": {},
   "outputs": [],
   "source": [
    "dataset = rs.open(\"output/USGS_LPC_TX_South_B8_2018_LAS.tif\")\n",
    "img = rs.open(dataset)\n",
    "show(img)"
   ]
  },
  {
   "cell_type": "code",
   "execution_count": null,
   "metadata": {},
   "outputs": [],
   "source": [
    "print(f\"Num of Bands: {dataset.count})\n",
    "print(f\"Height: {dataset.height}, Width: {dataset.width})\n",
    "print(f\"CRS: {dataset.crs})"
   ]
  }
 ],
 "metadata": {
  "kernelspec": {
   "display_name": "Python 3.9.0 ('lidar')",
   "language": "python",
   "name": "python3"
  },
  "language_info": {
   "codemirror_mode": {
    "name": "ipython",
    "version": 3
   },
   "file_extension": ".py",
   "mimetype": "text/x-python",
   "name": "python",
   "nbconvert_exporter": "python",
   "pygments_lexer": "ipython3",
   "version": "3.9.0"
  },
  "orig_nbformat": 4,
  "vscode": {
   "interpreter": {
    "hash": "c9b02a6cbd0fe892f4ca5f5e78225aa653e5b14f1a4c5ca7bd4c0cad2515d179"
   }
  }
 },
 "nbformat": 4,
 "nbformat_minor": 2
}
