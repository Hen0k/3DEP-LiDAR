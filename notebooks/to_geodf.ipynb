{
 "cells": [
  {
   "cell_type": "markdown",
   "metadata": {},
   "source": [
    "# Handle Imports"
   ]
  },
  {
   "cell_type": "code",
   "execution_count": 1,
   "metadata": {},
   "outputs": [],
   "source": [
    "from shapely.geometry import Polygon\n",
    "from agritech_lidar.data_getter import DataGetter\n",
    "import matplotlib.pyplot as plt\n",
    "import rasterio as rio\n",
    "from rasterio.plot import show\n",
    "from rasterio.plot import plotting_extent\n",
    "import geopandas as gpd\n",
    "import laspy\n",
    "import earthpy as et\n",
    "import earthpy.spatial as es\n",
    "import earthpy.plot as ep\n",
    "import numpy as np"
   ]
  },
  {
   "cell_type": "markdown",
   "metadata": {},
   "source": [
    "# Use the new package to fetch some slice of an area"
   ]
  },
  {
   "cell_type": "code",
   "execution_count": 2,
   "metadata": {},
   "outputs": [
    {
     "name": "stdout",
     "output_type": "stream",
     "text": [
      "Building the Pipeline...\n",
      "folder_name: USGS_LPC_TX_South_B8_2018_LAS_2019/\n"
     ]
    }
   ],
   "source": [
    "getter = DataGetter(area_name='USGS_LPC_TX_South_B8_2018_LAS',\n",
    "                        boundaries=Polygon([\n",
    "                            # (xmin, ymin)\n",
    "                            (-10880908.0, 3040000),\n",
    "                            # (xmin, ymax)\n",
    "                            (-10880908.0, 3042000),\n",
    "                            # (xmax, ymax)\n",
    "                            (-10879000.0, 3042000),\n",
    "                            # (xmax, ymin)\n",
    "                            (-10879000.0, 3040000),\n",
    "                        ]),\n",
    "                        # point_types=['Ground', 'Water'],\n",
    "                        ouput_path=\"output/temp.las\"\n",
    "                        )\n",
    "pipeline = getter.build_pipeline()\n",
    "# print(pipeline)\n",
    "output = getter.execute()\n"
   ]
  },
  {
   "cell_type": "code",
   "execution_count": 3,
   "metadata": {},
   "outputs": [
    {
     "data": {
      "text/html": [
       "<div>\n",
       "<style scoped>\n",
       "    .dataframe tbody tr th:only-of-type {\n",
       "        vertical-align: middle;\n",
       "    }\n",
       "\n",
       "    .dataframe tbody tr th {\n",
       "        vertical-align: top;\n",
       "    }\n",
       "\n",
       "    .dataframe thead th {\n",
       "        text-align: right;\n",
       "    }\n",
       "</style>\n",
       "<table border=\"1\" class=\"dataframe\">\n",
       "  <thead>\n",
       "    <tr style=\"text-align: right;\">\n",
       "      <th></th>\n",
       "      <th>elevation</th>\n",
       "      <th>geometry</th>\n",
       "    </tr>\n",
       "  </thead>\n",
       "  <tbody>\n",
       "    <tr>\n",
       "      <th>0</th>\n",
       "      <td>1108</td>\n",
       "      <td>POINT (-1087933195.000 304094814.000)</td>\n",
       "    </tr>\n",
       "    <tr>\n",
       "      <th>1</th>\n",
       "      <td>1110</td>\n",
       "      <td>POINT (-1087933103.000 304094816.000)</td>\n",
       "    </tr>\n",
       "    <tr>\n",
       "      <th>2</th>\n",
       "      <td>1109</td>\n",
       "      <td>POINT (-1087933010.000 304094817.000)</td>\n",
       "    </tr>\n",
       "    <tr>\n",
       "      <th>3</th>\n",
       "      <td>1108</td>\n",
       "      <td>POINT (-1087932917.000 304094817.000)</td>\n",
       "    </tr>\n",
       "    <tr>\n",
       "      <th>4</th>\n",
       "      <td>1110</td>\n",
       "      <td>POINT (-1087932825.000 304094819.000)</td>\n",
       "    </tr>\n",
       "    <tr>\n",
       "      <th>...</th>\n",
       "      <td>...</td>\n",
       "      <td>...</td>\n",
       "    </tr>\n",
       "    <tr>\n",
       "      <th>12845656</th>\n",
       "      <td>1086</td>\n",
       "      <td>POINT (-1087985498.000 304199019.000)</td>\n",
       "    </tr>\n",
       "    <tr>\n",
       "      <th>12845657</th>\n",
       "      <td>1088</td>\n",
       "      <td>POINT (-1087985318.000 304199026.000)</td>\n",
       "    </tr>\n",
       "    <tr>\n",
       "      <th>12845658</th>\n",
       "      <td>1087</td>\n",
       "      <td>POINT (-1087985344.000 304198934.000)</td>\n",
       "    </tr>\n",
       "    <tr>\n",
       "      <th>12845659</th>\n",
       "      <td>1085</td>\n",
       "      <td>POINT (-1087985435.000 304198930.000)</td>\n",
       "    </tr>\n",
       "    <tr>\n",
       "      <th>12845660</th>\n",
       "      <td>1086</td>\n",
       "      <td>POINT (-1087985526.000 304198927.000)</td>\n",
       "    </tr>\n",
       "  </tbody>\n",
       "</table>\n",
       "<p>12845661 rows × 2 columns</p>\n",
       "</div>"
      ],
      "text/plain": [
       "          elevation                               geometry\n",
       "0              1108  POINT (-1087933195.000 304094814.000)\n",
       "1              1110  POINT (-1087933103.000 304094816.000)\n",
       "2              1109  POINT (-1087933010.000 304094817.000)\n",
       "3              1108  POINT (-1087932917.000 304094817.000)\n",
       "4              1110  POINT (-1087932825.000 304094819.000)\n",
       "...             ...                                    ...\n",
       "12845656       1086  POINT (-1087985498.000 304199019.000)\n",
       "12845657       1088  POINT (-1087985318.000 304199026.000)\n",
       "12845658       1087  POINT (-1087985344.000 304198934.000)\n",
       "12845659       1085  POINT (-1087985435.000 304198930.000)\n",
       "12845660       1086  POINT (-1087985526.000 304198927.000)\n",
       "\n",
       "[12845661 rows x 2 columns]"
      ]
     },
     "execution_count": 3,
     "metadata": {},
     "output_type": "execute_result"
    }
   ],
   "source": [
    "getter.get_geodf()"
   ]
  },
  {
   "cell_type": "code",
   "execution_count": 7,
   "metadata": {},
   "outputs": [
    {
     "data": {
      "text/html": [
       "<div>\n",
       "<style scoped>\n",
       "    .dataframe tbody tr th:only-of-type {\n",
       "        vertical-align: middle;\n",
       "    }\n",
       "\n",
       "    .dataframe tbody tr th {\n",
       "        vertical-align: top;\n",
       "    }\n",
       "\n",
       "    .dataframe thead th {\n",
       "        text-align: right;\n",
       "    }\n",
       "</style>\n",
       "<table border=\"1\" class=\"dataframe\">\n",
       "  <thead>\n",
       "    <tr style=\"text-align: right;\">\n",
       "      <th></th>\n",
       "      <th>minx</th>\n",
       "      <th>miny</th>\n",
       "      <th>maxx</th>\n",
       "      <th>maxy</th>\n",
       "    </tr>\n",
       "  </thead>\n",
       "  <tbody>\n",
       "    <tr>\n",
       "      <th>0</th>\n",
       "      <td>-1.087933e+09</td>\n",
       "      <td>304094814.0</td>\n",
       "      <td>-1.087933e+09</td>\n",
       "      <td>304094814.0</td>\n",
       "    </tr>\n",
       "    <tr>\n",
       "      <th>1</th>\n",
       "      <td>-1.087933e+09</td>\n",
       "      <td>304094816.0</td>\n",
       "      <td>-1.087933e+09</td>\n",
       "      <td>304094816.0</td>\n",
       "    </tr>\n",
       "    <tr>\n",
       "      <th>2</th>\n",
       "      <td>-1.087933e+09</td>\n",
       "      <td>304094817.0</td>\n",
       "      <td>-1.087933e+09</td>\n",
       "      <td>304094817.0</td>\n",
       "    </tr>\n",
       "    <tr>\n",
       "      <th>3</th>\n",
       "      <td>-1.087933e+09</td>\n",
       "      <td>304094817.0</td>\n",
       "      <td>-1.087933e+09</td>\n",
       "      <td>304094817.0</td>\n",
       "    </tr>\n",
       "    <tr>\n",
       "      <th>4</th>\n",
       "      <td>-1.087933e+09</td>\n",
       "      <td>304094819.0</td>\n",
       "      <td>-1.087933e+09</td>\n",
       "      <td>304094819.0</td>\n",
       "    </tr>\n",
       "    <tr>\n",
       "      <th>...</th>\n",
       "      <td>...</td>\n",
       "      <td>...</td>\n",
       "      <td>...</td>\n",
       "      <td>...</td>\n",
       "    </tr>\n",
       "    <tr>\n",
       "      <th>12845656</th>\n",
       "      <td>-1.087985e+09</td>\n",
       "      <td>304199019.0</td>\n",
       "      <td>-1.087985e+09</td>\n",
       "      <td>304199019.0</td>\n",
       "    </tr>\n",
       "    <tr>\n",
       "      <th>12845657</th>\n",
       "      <td>-1.087985e+09</td>\n",
       "      <td>304199026.0</td>\n",
       "      <td>-1.087985e+09</td>\n",
       "      <td>304199026.0</td>\n",
       "    </tr>\n",
       "    <tr>\n",
       "      <th>12845658</th>\n",
       "      <td>-1.087985e+09</td>\n",
       "      <td>304198934.0</td>\n",
       "      <td>-1.087985e+09</td>\n",
       "      <td>304198934.0</td>\n",
       "    </tr>\n",
       "    <tr>\n",
       "      <th>12845659</th>\n",
       "      <td>-1.087985e+09</td>\n",
       "      <td>304198930.0</td>\n",
       "      <td>-1.087985e+09</td>\n",
       "      <td>304198930.0</td>\n",
       "    </tr>\n",
       "    <tr>\n",
       "      <th>12845660</th>\n",
       "      <td>-1.087986e+09</td>\n",
       "      <td>304198927.0</td>\n",
       "      <td>-1.087986e+09</td>\n",
       "      <td>304198927.0</td>\n",
       "    </tr>\n",
       "  </tbody>\n",
       "</table>\n",
       "<p>12845661 rows × 4 columns</p>\n",
       "</div>"
      ],
      "text/plain": [
       "                  minx         miny          maxx         maxy\n",
       "0        -1.087933e+09  304094814.0 -1.087933e+09  304094814.0\n",
       "1        -1.087933e+09  304094816.0 -1.087933e+09  304094816.0\n",
       "2        -1.087933e+09  304094817.0 -1.087933e+09  304094817.0\n",
       "3        -1.087933e+09  304094817.0 -1.087933e+09  304094817.0\n",
       "4        -1.087933e+09  304094819.0 -1.087933e+09  304094819.0\n",
       "...                ...          ...           ...          ...\n",
       "12845656 -1.087985e+09  304199019.0 -1.087985e+09  304199019.0\n",
       "12845657 -1.087985e+09  304199026.0 -1.087985e+09  304199026.0\n",
       "12845658 -1.087985e+09  304198934.0 -1.087985e+09  304198934.0\n",
       "12845659 -1.087985e+09  304198930.0 -1.087985e+09  304198930.0\n",
       "12845660 -1.087986e+09  304198927.0 -1.087986e+09  304198927.0\n",
       "\n",
       "[12845661 rows x 4 columns]"
      ]
     },
     "execution_count": 7,
     "metadata": {},
     "output_type": "execute_result"
    }
   ],
   "source": [
    "getter.geo_df.bounds"
   ]
  },
  {
   "cell_type": "code",
   "execution_count": 8,
   "metadata": {},
   "outputs": [
    {
     "data": {
      "text/plain": [
       "Index(['elevation', 'geometry'], dtype='object')"
      ]
     },
     "execution_count": 8,
     "metadata": {},
     "output_type": "execute_result"
    }
   ],
   "source": [
    "getter.geo_df.columns"
   ]
  },
  {
   "cell_type": "code",
   "execution_count": 10,
   "metadata": {},
   "outputs": [
    {
     "ename": "AttributeError",
     "evalue": "'Series' object has no attribute 'heatmap'",
     "output_type": "error",
     "traceback": [
      "\u001b[0;31m---------------------------------------------------------------------------\u001b[0m",
      "\u001b[0;31mAttributeError\u001b[0m                            Traceback (most recent call last)",
      "\u001b[1;32m/home/henok_tilaye/lidar_point_cloud/notebooks/new.ipynb Cell 8'\u001b[0m in \u001b[0;36m<cell line: 1>\u001b[0;34m()\u001b[0m\n\u001b[0;32m----> <a href='vscode-notebook-cell://ssh-remote%2Bg2/home/henok_tilaye/lidar_point_cloud/notebooks/new.ipynb#ch0000026vscode-remote?line=0'>1</a>\u001b[0m getter\u001b[39m.\u001b[39;49mgeo_df\u001b[39m.\u001b[39;49melevation\u001b[39m.\u001b[39;49mheatmap()\n",
      "File \u001b[0;32m~/miniconda3/envs/lidar/lib/python3.10/site-packages/pandas/core/generic.py:5575\u001b[0m, in \u001b[0;36mNDFrame.__getattr__\u001b[0;34m(self, name)\u001b[0m\n\u001b[1;32m   5568\u001b[0m \u001b[39mif\u001b[39;00m (\n\u001b[1;32m   5569\u001b[0m     name \u001b[39mnot\u001b[39;00m \u001b[39min\u001b[39;00m \u001b[39mself\u001b[39m\u001b[39m.\u001b[39m_internal_names_set\n\u001b[1;32m   5570\u001b[0m     \u001b[39mand\u001b[39;00m name \u001b[39mnot\u001b[39;00m \u001b[39min\u001b[39;00m \u001b[39mself\u001b[39m\u001b[39m.\u001b[39m_metadata\n\u001b[1;32m   5571\u001b[0m     \u001b[39mand\u001b[39;00m name \u001b[39mnot\u001b[39;00m \u001b[39min\u001b[39;00m \u001b[39mself\u001b[39m\u001b[39m.\u001b[39m_accessors\n\u001b[1;32m   5572\u001b[0m     \u001b[39mand\u001b[39;00m \u001b[39mself\u001b[39m\u001b[39m.\u001b[39m_info_axis\u001b[39m.\u001b[39m_can_hold_identifiers_and_holds_name(name)\n\u001b[1;32m   5573\u001b[0m ):\n\u001b[1;32m   5574\u001b[0m     \u001b[39mreturn\u001b[39;00m \u001b[39mself\u001b[39m[name]\n\u001b[0;32m-> 5575\u001b[0m \u001b[39mreturn\u001b[39;00m \u001b[39mobject\u001b[39;49m\u001b[39m.\u001b[39;49m\u001b[39m__getattribute__\u001b[39;49m(\u001b[39mself\u001b[39;49m, name)\n",
      "\u001b[0;31mAttributeError\u001b[0m: 'Series' object has no attribute 'heatmap'"
     ]
    }
   ],
   "source": [
    "getter.geo_df.elevation.plot()"
   ]
  },
  {
   "cell_type": "code",
   "execution_count": null,
   "metadata": {},
   "outputs": [],
   "source": []
  }
 ],
 "metadata": {
  "kernelspec": {
   "display_name": "Python 3.10.5",
   "language": "python",
   "name": "python3"
  },
  "language_info": {
   "codemirror_mode": {
    "name": "ipython",
    "version": 3
   },
   "file_extension": ".py",
   "mimetype": "text/x-python",
   "name": "python",
   "nbconvert_exporter": "python",
   "pygments_lexer": "ipython3",
   "version": "3.10.5"
  },
  "orig_nbformat": 4,
  "vscode": {
   "interpreter": {
    "hash": "1777bb4b87fd86fc366989b65901a6b48485cff846a611b3cf4a7e7f02b84e21"
   }
  }
 },
 "nbformat": 4,
 "nbformat_minor": 2
}
