{
 "cells": [
  {
   "cell_type": "markdown",
   "metadata": {},
   "source": [
    "I will use this notebook to build a metadata for each area that will incude the boundaries for each.\n"
   ]
  },
  {
   "cell_type": "code",
   "execution_count": 10,
   "metadata": {},
   "outputs": [],
   "source": [
    "import requests\n",
    "import json\n",
    "import geopandas as gpd\n",
    "from shapely.geometry import Polygon"
   ]
  },
  {
   "cell_type": "code",
   "execution_count": 16,
   "metadata": {},
   "outputs": [
    {
     "name": "stdout",
     "output_type": "stream",
     "text": [
      "{'type': 'MultiPolygon', 'coordinates': [[[[-155.60323844971154, 58.468717982826526], [-155.5987468732921, 58.47075215944653], [-155.5987468732921, 58.47482015956134], [-155.60323844971154, 58.478887688870756], [-155.60885292023593, 58.47990449763877], [-155.60997581434071, 58.48295474740881], [-155.61559028486514, 58.48397143848931], [-155.61671317896997, 58.48702133520956], [-155.6290650141236, 58.49210390803788], [-155.63018790822846, 58.49515309873498], [-155.63580237875277, 58.49616943680387], [-155.64366263748684, 58.503282979719096], [-155.64927710801123, 58.504299082489425], [-155.65040000211613, 58.507347214343156], [-155.65713736674533, 58.5093791552031], [-155.66275183726964, 58.50836319947706], [-155.68633261347193, 58.515474272025614], [-155.69419287220597, 58.52258390377458], [-155.70654470735957, 58.5215683303015], [-155.7166507543034, 58.52461496252028], [-155.7177736484083, 58.53172274208076], [-155.71328207198877, 58.535783683686944], [-155.7009302368353, 58.538829081258726], [-155.6998073427304, 58.54187421430401], [-155.69419287220597, 58.542889199871254], [-155.69419287220597, 58.551008026424505], [-155.6998073427304, 58.55202274750362], [-155.7233881189326, 58.54491908283715], [-155.75146047155442, 58.55405210150755], [-155.77054967133722, 58.55303743919779], [-155.77054967133722, 58.55912497230945], [-155.75819783618363, 58.55811045691359], [-155.75033757744953, 58.563182740086546], [-155.75033757744953, 58.56926851039128], [-155.75819783618363, 58.57636723915373], [-155.76493520081277, 58.57839518301448], [-155.78065571828103, 58.57839518301448], [-155.7952533416443, 58.57535322316543], [-155.80760517679786, 58.57636723915373], [-155.8120967532174, 58.574339177804454], [-155.8177112237417, 58.57535322316543], [-155.82220280016122, 58.57332510307035], [-155.82781727068553, 58.574339177804454], [-155.8345546353147, 58.572310998962486], [-155.8345546353147, 58.54390415604876], [-155.82781727068553, 58.54187421430401], [-155.8188341178466, 58.54187421430401], [-155.80760517679786, 58.54593398023683], [-155.79862202395896, 58.54390415604876], [-155.79413044753943, 58.53984415499829], [-155.7952533416443, 58.5307074331916], [-155.7885159770151, 58.52867672722457], [-155.78739308291023, 58.525630447793965], [-155.76830388312743, 58.520552727427464], [-155.76718098902253, 58.517505742394846], [-155.74472310692516, 58.51141097843402], [-155.74360021282027, 58.50836319947706], [-155.72114233072284, 58.502266847538245], [-155.72001943661806, 58.499218274527664], [-155.7009302368353, 58.49413673125136], [-155.6998073427304, 58.491087452306935], [-155.6807181429476, 58.48600473238914], [-155.67959524884265, 58.48295474740881], [-155.65713736674533, 58.47685398306458], [-155.65601447264044, 58.47380320367195], [-155.65040000211613, 58.47482015956134], [-155.6459084256966, 58.472786218356696], [-155.6402939551723, 58.47380320367195], [-155.63580237875277, 58.4717692036151], [-155.63018790822846, 58.472786218356696], [-155.62569633180894, 58.47075215944653], [-155.62008186128463, 58.4717692036151], [-155.61559028486514, 58.469735085850495], [-155.60997581434071, 58.47075215944653], [-155.60323844971154, 58.468717982826526]]]]}\n"
     ]
    }
   ],
   "source": [
    "filenames = \"../src/agritech_lidar/data/filenames.txt\"\n",
    "base_uri = \"https://s3-us-west-2.amazonaws.com/usgs-lidar-public\"\n",
    "areas_metadata = []\n",
    "with open(filenames, \"r\") as f:\n",
    "    for name in f.readlines():\n",
    "        name = name.strip().strip('/')\n",
    "        res = requests.get(f\"{base_uri}/{name}/boundary.json\").json()\n",
    "        print(res)\n",
    "        entry = {\n",
    "            \"area_name\": name,\n",
    "            \"geometry\": Polygon(res.get(\"coordinates\", []))\n",
    "        }\n",
    "        areas_metadata.append(entry)\n",
    "        # print(res)\n",
    "        break\n",
    "\n"
   ]
  },
  {
   "cell_type": "code",
   "execution_count": 14,
   "metadata": {},
   "outputs": [],
   "source": [
    "md = gpd.GeoDataFrame(areas_metadata, columns=['area_name', 'geometry'])"
   ]
  },
  {
   "cell_type": "code",
   "execution_count": 15,
   "metadata": {},
   "outputs": [
    {
     "data": {
      "text/html": [
       "<div>\n",
       "<style scoped>\n",
       "    .dataframe tbody tr th:only-of-type {\n",
       "        vertical-align: middle;\n",
       "    }\n",
       "\n",
       "    .dataframe tbody tr th {\n",
       "        vertical-align: top;\n",
       "    }\n",
       "\n",
       "    .dataframe thead th {\n",
       "        text-align: right;\n",
       "    }\n",
       "</style>\n",
       "<table border=\"1\" class=\"dataframe\">\n",
       "  <thead>\n",
       "    <tr style=\"text-align: right;\">\n",
       "      <th></th>\n",
       "      <th>area_name</th>\n",
       "      <th>geometry</th>\n",
       "    </tr>\n",
       "  </thead>\n",
       "  <tbody>\n",
       "    <tr>\n",
       "      <th>0</th>\n",
       "      <td>AK_BrooksCamp_2012</td>\n",
       "      <td>GEOMETRYCOLLECTION EMPTY</td>\n",
       "    </tr>\n",
       "  </tbody>\n",
       "</table>\n",
       "</div>"
      ],
      "text/plain": [
       "            area_name                  geometry\n",
       "0  AK_BrooksCamp_2012  GEOMETRYCOLLECTION EMPTY"
      ]
     },
     "execution_count": 15,
     "metadata": {},
     "output_type": "execute_result"
    }
   ],
   "source": [
    "md"
   ]
  },
  {
   "cell_type": "code",
   "execution_count": 9,
   "metadata": {},
   "outputs": [
    {
     "ename": "AttributeError",
     "evalue": "'list' object has no attribute 'bounds'",
     "output_type": "error",
     "traceback": [
      "\u001b[0;31m---------------------------------------------------------------------------\u001b[0m",
      "\u001b[0;31mAttributeError\u001b[0m                            Traceback (most recent call last)",
      "\u001b[1;32m/home/hat/dev-env/10Acadamy/week_7/lidar_point_cloud/notebooks/build_metadata.ipynb Cell 6'\u001b[0m in \u001b[0;36m<cell line: 1>\u001b[0;34m()\u001b[0m\n\u001b[0;32m----> <a href='vscode-notebook-cell:/home/hat/dev-env/10Acadamy/week_7/lidar_point_cloud/notebooks/build_metadata.ipynb#ch0000005?line=0'>1</a>\u001b[0m md\u001b[39m.\u001b[39;49mgeometry[\u001b[39m0\u001b[39;49m]\u001b[39m.\u001b[39;49mbounds\n",
      "\u001b[0;31mAttributeError\u001b[0m: 'list' object has no attribute 'bounds'"
     ]
    }
   ],
   "source": [
    "md.geometry[0].bounds"
   ]
  },
  {
   "cell_type": "code",
   "execution_count": null,
   "metadata": {},
   "outputs": [],
   "source": []
  }
 ],
 "metadata": {
  "kernelspec": {
   "display_name": "Python 3.10.4 ('venv': venv)",
   "language": "python",
   "name": "python3"
  },
  "language_info": {
   "codemirror_mode": {
    "name": "ipython",
    "version": 3
   },
   "file_extension": ".py",
   "mimetype": "text/x-python",
   "name": "python",
   "nbconvert_exporter": "python",
   "pygments_lexer": "ipython3",
   "version": "3.10.4"
  },
  "orig_nbformat": 4,
  "vscode": {
   "interpreter": {
    "hash": "d76ed604148f9fea8f6f4ee4d390c9c0ff22a246afc54da9ca9ca95c6dd8c6e9"
   }
  }
 },
 "nbformat": 4,
 "nbformat_minor": 2
}
